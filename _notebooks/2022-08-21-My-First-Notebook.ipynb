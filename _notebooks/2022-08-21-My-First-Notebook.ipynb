{
 "cells": [
  {
   "cell_type": "markdown",
   "metadata": {},
   "source": [
    "# Haeryn's First Jupyter Notebook\n",
    "> This is my first Jupyter Notebook created from VsCode!\n",
    "\n",
    "- badges: true\n",
    "- comments: true\n",
    "- categories: [jupyter]"
   ]
  },
  {
   "cell_type": "code",
   "execution_count": 2,
   "metadata": {},
   "outputs": [
    {
     "name": "stdout",
     "output_type": "stream",
     "text": [
      "Welcome to Jupyter Notebooks!\n"
     ]
    }
   ],
   "source": [
    "msg = \"Welcome to Jupyter Notebooks!\"\n",
    "print(msg)"
   ]
  }
 ],
 "metadata": {
  "kernelspec": {
